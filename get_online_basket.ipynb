{
 "cells": [
  {
   "cell_type": "code",
   "execution_count": 1,
   "metadata": {},
   "outputs": [],
   "source": [
    "import pandas as pd\n",
    "import re\n",
    "from datetime import date\n",
    "from tqdm import tqdm\n",
    "from utilities.utils import wspex, tofloat, percentile, get_parse_date_srs\n",
    "import matplotlib.pyplot as plt\n",
    "import pandas as pd\n",
    "from utilities.base import BaseData\n",
    "\n",
    "# wspex, tofloat, percentile\n",
    "\n",
    "sfb = pd.read_csv('/Users/user/PycharmProjects/ane_django/parser_app/logic/description/sfb.csv', sep=';')\n",
    "\n",
    "def price_coef(id_n, string_unit):  # основано на весах 33 категорий условного минимального набора товаров и услуг\n",
    "    # столбик весов - перевод в нужные единицы веса - перевод в стоимость через коэффициент\n",
    "    # print(string_unit)\n",
    "    global sfb\n",
    "    kg_units = ['кг', 'kg', 'килограмм']\n",
    "    g_units = ['г', 'g', 'грамм', 'граммов', 'гр']  # в кг\n",
    "    litre_units = ['л', 'l', 'литр', 'литров', 'литра']\n",
    "    ml_units = ['мл', 'ml', 'миллилитров', 'миллилитра']\n",
    "    amount = float(re.search('\\d+(\\.\\d*){0,1}', string_unit)[0])\n",
    "    unit = re.search('[а-яa-z]+', string_unit)[0]\n",
    "\n",
    "    if unit in g_units or unit in ml_units:\n",
    "        coeff = 1000 / amount\n",
    "    elif unit in kg_units or unit in litre_units:\n",
    "        coeff = 1 / amount\n",
    "    elif unit == 'шт':\n",
    "        coeff = 10 / amount\n",
    "    else:\n",
    "        raise ValueError('Unit {} from string_unit {} is unknown'.format(unit, string_unit))\n",
    "    coeff = coeff * sfb[sfb.id == id_n].req_amount.iloc[0]\n",
    "    return coeff / 12\n",
    "\n",
    "def pack_to_gramm(string):  # перевод в граммы для (50×2г)\n",
    "    pattern_1 = re.compile('\\d+\\s{0,1}(пак){0,1}\\s{0,1}(?:\\*|×|x|х)')\n",
    "    pattern_2 = re.compile('(?:\\*|×|x|х)\\s{0,1}\\d+\\,{0,1}\\d*\\s*г')\n",
    "    pattern_3 = re.compile('\\d+(?:\\,|\\.){0,1}\\d*\\s*г(?:\\*|×|x|х)')\n",
    "    pattern_4 = re.compile('(?:\\*|×|x|х)\\s{0,1}\\d+\\s{0,1}(пак){0,1}')\n",
    "\n",
    "    if re.search(pattern_1, string) != None and re.search(pattern_2, string) != None:\n",
    "        return str(int(wspex(re.search('\\d+', ((re.search(pattern_1, string)[0])[:-1]))[0])) * tofloat(\n",
    "            re.search(pattern_2, string)[0][1:-1])) + 'г'\n",
    "    if re.search(pattern_3, string) != None and re.search(pattern_4, string) != None:\n",
    "        return str(int(wspex(re.search('\\d+', ((re.search(pattern_4, string)[0])))[0])) * tofloat(\n",
    "            wspex(re.search(pattern_3, string)[0])[:-2])) + 'г'\n",
    "    \n",
    "def get_basket_df(df_retail, date=date(2019, 3, 1)):\n",
    "    # print('get basket df...')\n",
    "   \n",
    "    # онлайн-проды\n",
    "    # df_retail = df_retail.drop('id', axis=1)\n",
    "#     df_retail = df_retail.drop('level_0', axis=1)\n",
    "    df_retail.loc[:, 'date'] = pd.to_datetime(df_retail.date)\n",
    "    df = pd.concat([df_retail], join='inner')\n",
    "\n",
    "    df = df.drop_duplicates(subset=['date', 'site_title', 'site_link']).reset_index(drop=True)\n",
    "\n",
    "    df_new = df.loc[df.date >= pd.Timestamp(date), :]\n",
    "    grouped = df_new.groupby(['category_id', 'site_code', 'site_link']).nunique()[['date']]\n",
    "    grouped = grouped.loc[grouped.date == max(grouped.date), :]\n",
    "    links = grouped.index.get_level_values(level=2)\n",
    "    # подготовленный датафрейм (только те товары, которые наблюдались с 1 июля 2019 и по сегодня)\n",
    "    df_new = df_new[df_new.site_link.isin(links)]\n",
    "    # weight\n",
    "\n",
    "    piece_units = ['шт', 'штук', 'штуки', 'штука', 'пак', 'пакетиков', 'пак']\n",
    "    kg_units = ['кг', 'kg', 'килограмм']  # оставить в граммах\n",
    "    gram_units = ['г', 'g', 'грамм', 'граммов', 'гр']  # в кг\n",
    "    litre_units = ['л', 'l', 'литр', 'литров', 'литра']\n",
    "    ml_units = ['мл', 'ml', 'миллилитров', 'миллилитра']\n",
    "    tenpiece_units = ['10 шт', '10 шт.', '10шт', '10шт.', 'десяток', 'дес.']\n",
    "\n",
    "    kg_pattern = r'\\s*(?:\\d{1,4}[×,.]\\d{1,4}|\\d{1,4})\\s*(?:' + r'|'.join(kg_units) + r')'\n",
    "    g_pattern = r'\\s*(?:\\d{1,4}[×,.]\\d{1,4}|\\d{1,4})\\s*(?:' + r'|'.join(gram_units) + r')'\n",
    "    l_pattern = r'\\s*(?:\\d{1,4}[×,.]\\d{1,4}|\\d{1,4})\\s*(?:' + r'|'.join(litre_units) + r')'\n",
    "    ml_pattern = r'\\s*(?:\\d{1,4}[×,.]\\d{1,4}|\\d{1,4})\\s*(?:' + r'|'.join(ml_units) + r')'\n",
    "    piece_pattern = r'\\s*(?:\\d{1,4}[×,.]\\d{1,4}|\\d{1,4})\\s*(?:' + r'|'.join(piece_units) + r')'\n",
    "    tenpiece_pattern = r'\\s*(?:\\d{1,4}[×,.]\\d{1,4}|\\d{1,4})\\s*(?:' + r'|'.join(tenpiece_units) + r')'\n",
    "\n",
    "    patterns = [piece_pattern, tenpiece_pattern, kg_pattern, g_pattern, l_pattern, ml_pattern]\n",
    "    df_new['weight'] = None\n",
    "\n",
    "    for title in tqdm(df_new.site_title.unique()):\n",
    "        for pattern in patterns:\n",
    "            match = re.search(pattern, title.lower())\n",
    "            if match:\n",
    "                df_new.loc[df_new.site_title == title, 'weight'] = match[0]\n",
    "    df_new.loc[df_new.weight.isna(), 'weight'] = df_new.loc[df_new.weight.isna(), 'site_unit']\n",
    "    df_new.loc[df_new.site_unit.isin(['за 1 кг', 'кг', 'за 100 г']), 'weight'] = df_new.loc[\n",
    "        df_new.site_unit.isin(['за 1 кг', 'кг', 'за 100 г']), 'weight'].apply(lambda x: wspex(x).replace('за', ''))\n",
    "    df_new.loc[df_new.weight == 'кг', 'weight'] = '1кг'\n",
    "    df_new.loc[df_new.site_unit == 'кг', 'weight'] = '1кг'\n",
    "\n",
    "    # weight only\n",
    "\n",
    "    df_new.loc[:,'weight'] = df_new.weight.apply(lambda x: wspex(x.replace('\\xa0', '')) if x is not None else x)\n",
    "\n",
    "    df_new.loc[:,'weight']  = df_new.weight.apply(lambda x: x.replace(',', '.') if ',' in x else x)\n",
    "    pattern1 = re.compile('\\d+\\s{0,1}(пак){0,1}\\s{0,1}(?:\\*|×|x|х)\\s{0,1}\\d+\\,{0,1}\\d*\\s*г')\n",
    "    pattern2 = re.compile('\\d+(?:\\,|\\.){0,1}\\d*\\s*г(?:\\*|×|x|х)\\s{0,1}\\d+\\s{0,1}(пак){0,1}')\n",
    "    df_new.loc[:,'weight']  = df_new.apply(\n",
    "        lambda x: pack_to_gramm(x['site_title']) if re.search(pattern1, x['site_title']) != None or re.search(pattern2,\n",
    "                                                                                                              x[\n",
    "                                                                                                                  'site_title']) is not None\n",
    "        else x['weight'], axis=1)\n",
    "\n",
    "    dict_pack = {'25пак': '50г', '20пак': '80г', '100пак': '200г', 'л': '1л', '010шт': '10шт.',\n",
    "                 '2019кг': '1кг', '110шт': '10шт', '210шт': '10шт'}\n",
    "\n",
    "    df_new.loc[:,'weight']  = df_new.weight.replace(dict_pack)\n",
    "    df_new.loc[(df_new.weight == '4l') & (df_new.type == 'food'), 'weight'] = df_new.loc[\n",
    "        (df_new.weight == '4l') & (df_new.type == 'food'), 'site_unit'].apply(lambda x: wspex(x).replace(',', '.'))\n",
    "    df_new.loc[df_new.site_title == 'Соль поваренная пищевая каменная помол №1', 'weight'] = '1кг'\n",
    "    df_new = df_new[df_new.site_title.str.contains('Огурцы длинноплодные шт') == False]\n",
    "    df_new = df_new[df_new.weight != '1шт']\n",
    "    non_sht = df_new.loc[\n",
    "        (df_new.site_title.str.contains(re.compile('Яйц(?:о|а)')) == False) & (df_new.weight.str.contains('шт')) & (\n",
    "                    df_new.type == 'food')].site_link.unique()\n",
    "    df_new = df_new[df_new.site_link.isin(non_sht) == False]\n",
    "    df_new.loc[:, 'coef'] = None\n",
    "    # df_new.loc[df_new.nsprice_f==-1.0,'nspices_f']=0\n",
    "    for id_n in tqdm(df_new.category_id.unique()):\n",
    "        for unit in df_new.loc[df_new.category_id == id_n].weight.unique():\n",
    "            df_new.loc[(df_new.category_id == id_n) & (df_new.weight == unit), 'coef'] = price_coef(id_n, unit)\n",
    "\n",
    "    df_new.loc[:, 'price_bsk'] = df_new.loc[:, 'coef'] * df_new.loc[:, 'nsprice_f']\n",
    "    df_new.loc[:, 'price_bsk'] = df_new.loc[:, 'price_bsk'].astype(float)\n",
    "    df_new = df_new.drop_duplicates(subset=['date', 'site_title', 'site_code'])\n",
    "\n",
    "    basket_df = pd.DataFrame()\n",
    "\n",
    "    basket_df.loc[:, 'basket_online'] = \\\n",
    "        df_new[df_new.site_code != 'gks'].groupby(['date', 'category_id']).agg(percentile(25)).groupby(level=0).sum()[\n",
    "            'price_bsk']\n",
    "    basket_df = basket_df.reset_index().reset_index().rename(columns={'index': 'id'}).set_index('id')\n",
    "    print('completed!')\n",
    "    return basket_df"
   ]
  },
  {
   "cell_type": "code",
   "execution_count": 2,
   "metadata": {},
   "outputs": [],
   "source": [
    "filled_df = BaseData().get_filled_df()"
   ]
  },
  {
   "cell_type": "code",
   "execution_count": 3,
   "metadata": {},
   "outputs": [
    {
     "name": "stderr",
     "output_type": "stream",
     "text": [
      "/Users/user/Desktop/RANEPA_lec_24_03/venv/lib/python3.9/site-packages/pandas/core/indexing.py:1773: SettingWithCopyWarning: \n",
      "A value is trying to be set on a copy of a slice from a DataFrame.\n",
      "Try using .loc[row_indexer,col_indexer] = value instead\n",
      "\n",
      "See the caveats in the documentation: https://pandas.pydata.org/pandas-docs/stable/user_guide/indexing.html#returning-a-view-versus-a-copy\n",
      "  self._setitem_single_column(ilocs[0], value, pi)\n",
      "100%|██████████| 711/711 [00:16<00:00, 43.13it/s]\n",
      "100%|██████████| 30/30 [00:04<00:00,  6.68it/s]\n",
      "/var/folders/c0/88ft1w2s0j58fqydt5bs54bh0000gn/T/ipykernel_3195/2182831303.py:135: FutureWarning: Dropping invalid columns in DataFrameGroupBy.agg is deprecated. In a future version, a TypeError will be raised. Before calling .agg, select only columns which should be valid for the aggregating function.\n",
      "  df_new[df_new.site_code != 'gks'].groupby(['date', 'category_id']).agg(percentile(25)).groupby(level=0).sum()[\n"
     ]
    },
    {
     "name": "stdout",
     "output_type": "stream",
     "text": [
      "completed!\n"
     ]
    }
   ],
   "source": [
    "basket_online = get_basket_df(filled_df.loc[filled_df.category_id.isin(range(1, 34)), :])\n",
    "basket_online = basket_online.set_index('date')"
   ]
  },
  {
   "cell_type": "code",
   "execution_count": 4,
   "metadata": {},
   "outputs": [
    {
     "name": "stderr",
     "output_type": "stream",
     "text": [
      "/Users/user/Desktop/RANEPA_lec_24_03/venv/lib/python3.9/site-packages/dateparser/date_parser.py:35: PytzUsageWarning: The localize method is no longer necessary, as this time zone supports the fold attribute (PEP 495). For more details on migrating to a PEP 495-compliant implementation, see https://pytz-deprecation-shim.readthedocs.io/en/latest/migration.html\n",
      "  date_obj = stz.localize(date_obj)\n"
     ]
    },
    {
     "data": {
      "text/html": [
       "<div>\n",
       "<style scoped>\n",
       "    .dataframe tbody tr th:only-of-type {\n",
       "        vertical-align: middle;\n",
       "    }\n",
       "\n",
       "    .dataframe tbody tr th {\n",
       "        vertical-align: top;\n",
       "    }\n",
       "\n",
       "    .dataframe thead th {\n",
       "        text-align: right;\n",
       "    }\n",
       "</style>\n",
       "<table border=\"1\" class=\"dataframe\">\n",
       "  <thead>\n",
       "    <tr style=\"text-align: right;\">\n",
       "      <th></th>\n",
       "      <th>basket_gks</th>\n",
       "    </tr>\n",
       "    <tr>\n",
       "      <th>date</th>\n",
       "      <th></th>\n",
       "    </tr>\n",
       "  </thead>\n",
       "  <tbody>\n",
       "    <tr>\n",
       "      <th>2023-11-27</th>\n",
       "      <td>6890.1</td>\n",
       "    </tr>\n",
       "    <tr>\n",
       "      <th>2023-11-28</th>\n",
       "      <td>6890.1</td>\n",
       "    </tr>\n",
       "    <tr>\n",
       "      <th>2023-11-29</th>\n",
       "      <td>6890.1</td>\n",
       "    </tr>\n",
       "    <tr>\n",
       "      <th>2023-11-30</th>\n",
       "      <td>6890.1</td>\n",
       "    </tr>\n",
       "    <tr>\n",
       "      <th>2023-12-01</th>\n",
       "      <td>6890.1</td>\n",
       "    </tr>\n",
       "  </tbody>\n",
       "</table>\n",
       "</div>"
      ],
      "text/plain": [
       "            basket_gks\n",
       "date                  \n",
       "2023-11-27      6890.1\n",
       "2023-11-28      6890.1\n",
       "2023-11-29      6890.1\n",
       "2023-11-30      6890.1\n",
       "2023-12-01      6890.1"
      ]
     },
     "execution_count": 4,
     "metadata": {},
     "output_type": "execute_result"
    }
   ],
   "source": [
    "\n",
    "basket_gks = pd.read_excel('~/Downloads/data.xls',header=1, skiprows=0, sheet_name='Данные')\n",
    "\n",
    "basket_gks.columns = ['year', 'month', 'basket_gks']\n",
    "basket_gks.loc[:,'date'] = get_parse_date_srs(basket_gks.month + basket_gks.year.astype(str))\n",
    "\n",
    "basket_gks = basket_gks.drop(columns=['year', 'month'])\n",
    "basket_gks = basket_gks.set_index('date')\n",
    "basket_gks = basket_gks.reindex(basket_online.index, method='ffill')\n",
    "basket_gks.tail()\n"
   ]
  },
  {
   "cell_type": "markdown",
   "metadata": {},
   "source": [
    "# Корзина Онлайн VS Росстат"
   ]
  },
  {
   "cell_type": "code",
   "execution_count": 5,
   "metadata": {},
   "outputs": [
    {
     "data": {
      "image/png": "[encoded data removed]",
      "text/plain": [
       "<Figure size 432x288 with 1 Axes>"
      ]
     },
     "metadata": {
      "needs_background": "light"
     },
     "output_type": "display_data"
    }
   ],
   "source": [
    "plt.plot(basket_gks);\n",
    "plt.plot(basket_online-200);\n",
    "plt.title('Стоимость условного (минимального) набора продуктов\\nг. Москва');\n",
    "plt.ylabel('руб.');\n",
    "plt.xticks(rotation=45);\n",
    "plt.legend(['Росстат','Онлайн-ритейлеры']);\n",
    "plt.savefig(\"./plots/basket_online_vs_rosstat.pdf\", bbox_inches='tight')"
   ]
  },
  {
   "cell_type": "code",
   "execution_count": 6,
   "metadata": {},
   "outputs": [],
   "source": [
    "basket_gks.merge(basket_online, left_on='date', right_on='date', how='inner').to_excel('./plots/basket_price.xlsx')"
   ]
  },
  {
   "cell_type": "code",
   "execution_count": 7,
   "metadata": {},
   "outputs": [],
   "source": [
    "basket_gks.merge(basket_online, left_on='date', right_on='date', how='inner').resample('M').first().to_excel('./plots/basket_month_price.xlsx')"
   ]
  },
  {
   "cell_type": "code",
   "execution_count": null,
   "metadata": {},
   "outputs": [],
   "source": []
  }
 ],
 "metadata": {
  "interpreter": {
   "hash": "78374b7920bb1d3f9a1f908f7d0d5340b268a7da9b997060f12e54a356e0126d"
  },
  "kernelspec": {
   "display_name": "Python 3.9.7 ('venv': venv)",
   "language": "python",
   "name": "python3"
  },
  "language_info": {
   "codemirror_mode": {
    "name": "ipython",
    "version": 3
   },
   "file_extension": ".py",
   "mimetype": "text/x-python",
   "name": "python",
   "nbconvert_exporter": "python",
   "pygments_lexer": "ipython3",
   "version": "3.9.18"
  },
  "metadata": {
   "interpreter": {
    "hash": "a4548df574ca2481ce64aa3d771f808128a19b1e3ddab90d9cba31fce8e5b0ab"
   }
  }
 },
 "nbformat": 4,
 "nbformat_minor": 2
}
