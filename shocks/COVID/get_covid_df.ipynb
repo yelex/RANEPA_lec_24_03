{
 "cells": [
  {
   "cell_type": "code",
   "execution_count": 1,
   "metadata": {},
   "outputs": [],
   "source": [
    "import numpy as np\n",
    "import pandas as pd\n",
    "\n",
    "import matplotlib.pyplot as plt   \n",
    "from pandas.plotting import register_matplotlib_converters\n",
    "register_matplotlib_converters()"
   ]
  },
  {
   "cell_type": "code",
   "execution_count": 2,
   "metadata": {},
   "outputs": [],
   "source": [
    "def geo_mean(iterable):\n",
    "    a = np.array(iterable)\n",
    "    return a.prod()**(1.0/len(a))\n",
    "\n",
    "def sum_day(srs):\n",
    "    number = (wt_srs*srs/(wt_srs*srs.notna()).sum()).sum()\n",
    "    return number"
   ]
  },
  {
   "cell_type": "code",
   "execution_count": 22,
   "metadata": {},
   "outputs": [
    {
     "data": {
      "text/html": [
       "<div>\n",
       "<style scoped>\n",
       "    .dataframe tbody tr th:only-of-type {\n",
       "        vertical-align: middle;\n",
       "    }\n",
       "\n",
       "    .dataframe tbody tr th {\n",
       "        vertical-align: top;\n",
       "    }\n",
       "\n",
       "    .dataframe thead th {\n",
       "        text-align: right;\n",
       "    }\n",
       "</style>\n",
       "<table border=\"1\" class=\"dataframe\">\n",
       "  <thead>\n",
       "    <tr style=\"text-align: right;\">\n",
       "      <th></th>\n",
       "      <th>category_id</th>\n",
       "      <th>category_title</th>\n",
       "      <th>date</th>\n",
       "      <th>miss</th>\n",
       "      <th>price_old</th>\n",
       "      <th>site_code</th>\n",
       "      <th>site_link</th>\n",
       "      <th>site_title</th>\n",
       "      <th>site_unit</th>\n",
       "      <th>type</th>\n",
       "      <th>price_new</th>\n",
       "      <th>nsprice_f</th>\n",
       "    </tr>\n",
       "    <tr>\n",
       "      <th>id</th>\n",
       "      <th></th>\n",
       "      <th></th>\n",
       "      <th></th>\n",
       "      <th></th>\n",
       "      <th></th>\n",
       "      <th></th>\n",
       "      <th></th>\n",
       "      <th></th>\n",
       "      <th></th>\n",
       "      <th></th>\n",
       "      <th></th>\n",
       "      <th></th>\n",
       "    </tr>\n",
       "  </thead>\n",
       "  <tbody>\n",
       "    <tr>\n",
       "      <td>0</td>\n",
       "      <td>10</td>\n",
       "      <td>Молоко питьевое цельное пастеризованное 2,5-3,...</td>\n",
       "      <td>2019-02-05</td>\n",
       "      <td>0</td>\n",
       "      <td>-1.0</td>\n",
       "      <td>globus</td>\n",
       "      <td>https://online.globus.ru/products/moloko-36-ko...</td>\n",
       "      <td>Молоко пастеризованное 36 Копеек 3,2%, 485 мл</td>\n",
       "      <td>за 1 шт.</td>\n",
       "      <td>food</td>\n",
       "      <td>34.89</td>\n",
       "      <td>34.89</td>\n",
       "    </tr>\n",
       "  </tbody>\n",
       "</table>\n",
       "</div>"
      ],
      "text/plain": [
       "    category_id                                     category_title  \\\n",
       "id                                                                   \n",
       "0            10  Молоко питьевое цельное пастеризованное 2,5-3,...   \n",
       "\n",
       "          date  miss  price_old site_code  \\\n",
       "id                                          \n",
       "0   2019-02-05     0       -1.0    globus   \n",
       "\n",
       "                                            site_link  \\\n",
       "id                                                      \n",
       "0   https://online.globus.ru/products/moloko-36-ko...   \n",
       "\n",
       "                                       site_title site_unit  type  price_new  \\\n",
       "id                                                                             \n",
       "0   Молоко пастеризованное 36 Копеек 3,2%, 485 мл  за 1 шт.  food      34.89   \n",
       "\n",
       "    nsprice_f  \n",
       "id             \n",
       "0       34.89  "
      ]
     },
     "execution_count": 22,
     "metadata": {},
     "output_type": "execute_result"
    }
   ],
   "source": [
    "df = pd.read_csv(r'~/PycharmProjects/ane_django/parsed_content/filled.csv', index_col='id').drop(columns='level_0')\n",
    "df.head(1)"
   ]
  },
  {
   "cell_type": "code",
   "execution_count": 23,
   "metadata": {},
   "outputs": [],
   "source": [
    "df = df[df.category_id!=76]\n",
    "# df = df[df.site_code!='ozon']\n",
    "df.loc[:,'unq'] = df.category_id.astype(str) + df.site_link\n",
    "df.loc[:,'date'] = pd.to_datetime(df.date)\n",
    "df = df[df.miss==0]\n",
    "df = df.drop(columns=['category_title','site_title','site_unit',\n",
    "                      'site_link','price_new','miss','price_old','site_code'])\n",
    "type_ = 'food'\n",
    "df = df[df.type==type_]\n",
    "srs = df.groupby('unq')['nsprice_f'].transform(lambda x: x.pct_change()+1)\n",
    "df.loc[:,'cng_price'] = srs\n",
    "# df = df.drop(columns=['nsprice_f'])\n",
    "\n",
    "pvt_df = df.pivot_table(index='date', columns='category_id', aggfunc=geo_mean).loc[:,'cng_price'].iloc[1:]\n",
    "pvt_df.iloc[0,:] = 1\n",
    "pvt_df = pvt_df.fillna(method='ffill').apply(lambda x: x.cumprod(), axis=0).dropna(how='all')\n",
    "\n",
    "wt_srs = pd.read_csv(r'~/PycharmProjects/ane_django/parser_app/logic/description/categories.csv', index_col='id', sep=';').iloc[:-1,:]['cpi_weight']\n",
    "wt_srs.index = wt_srs.index.astype(int)\n",
    "cpi_online = pvt_df.apply(lambda x: sum_day(x), axis=1)\n",
    "date_srs = pd.Series(index=pd.date_range(start=cpi_online.index[0], end=cpi_online.index[-1])).to_frame().drop(columns=0)\n",
    "cpi_online = cpi_online.to_frame().merge(date_srs, left_index=True, right_index=True, how='right').fillna(method='ffill')"
   ]
  },
  {
   "cell_type": "code",
   "execution_count": 24,
   "metadata": {},
   "outputs": [],
   "source": [
    "cpi_of = pd.read_csv(f'~/cpi_food.csv',index_col='date', sep=';')\n",
    "cpi_of.index = pd.to_datetime(cpi_of.index,format='%d.%m.%Y')\n",
    "cpi_of = (cpi_of/100)\n",
    "cpi_of = cpi_of.iloc[1:]\n",
    "cpi_of.iloc[0] = 1\n",
    "cpi_of = cpi_of.cumprod()\n",
    "cpi_of = cpi_of.merge(date_srs, left_index=True, right_index=True, how='right').fillna(method='ffill')"
   ]
  },
  {
   "cell_type": "code",
   "execution_count": 28,
   "metadata": {},
   "outputs": [
    {
     "data": {
      "image/png": "[encoded data removed]",
      "text/plain": [
       "<Figure size 432x288 with 1 Axes>"
      ]
     },
     "metadata": {
      "needs_background": "light"
     },
     "output_type": "display_data"
    }
   ],
   "source": [
    "date_range = pd.date_range(start='2020-03-01', end='2020-06-22')\n",
    "plt.plot(date_range,cpi_of.loc[date_range,:]);\n",
    "plt.plot(date_range,cpi_online.loc[date_range]);\n",
    "# cpi_online"
   ]
  },
  {
   "cell_type": "code",
   "execution_count": 31,
   "metadata": {},
   "outputs": [
    {
     "data": {
      "text/html": [
       "<div>\n",
       "<style scoped>\n",
       "    .dataframe tbody tr th:only-of-type {\n",
       "        vertical-align: middle;\n",
       "    }\n",
       "\n",
       "    .dataframe tbody tr th {\n",
       "        vertical-align: top;\n",
       "    }\n",
       "\n",
       "    .dataframe thead th {\n",
       "        text-align: right;\n",
       "    }\n",
       "</style>\n",
       "<table border=\"1\" class=\"dataframe\">\n",
       "  <thead>\n",
       "    <tr style=\"text-align: right;\">\n",
       "      <th></th>\n",
       "      <th>Продовольственный ИПЦ Онлайн</th>\n",
       "      <th>Продовольственный ИПЦ Росстат</th>\n",
       "    </tr>\n",
       "  </thead>\n",
       "  <tbody>\n",
       "    <tr>\n",
       "      <td>2019-02-01</td>\n",
       "      <td>1.000000</td>\n",
       "      <td>1.000000</td>\n",
       "    </tr>\n",
       "    <tr>\n",
       "      <td>2019-02-02</td>\n",
       "      <td>1.003908</td>\n",
       "      <td>1.000000</td>\n",
       "    </tr>\n",
       "    <tr>\n",
       "      <td>2019-02-03</td>\n",
       "      <td>1.003908</td>\n",
       "      <td>1.000000</td>\n",
       "    </tr>\n",
       "    <tr>\n",
       "      <td>2019-02-04</td>\n",
       "      <td>1.007858</td>\n",
       "      <td>1.000000</td>\n",
       "    </tr>\n",
       "    <tr>\n",
       "      <td>2019-02-05</td>\n",
       "      <td>1.012493</td>\n",
       "      <td>1.000000</td>\n",
       "    </tr>\n",
       "    <tr>\n",
       "      <td>...</td>\n",
       "      <td>...</td>\n",
       "      <td>...</td>\n",
       "    </tr>\n",
       "    <tr>\n",
       "      <td>2021-03-16</td>\n",
       "      <td>1.130835</td>\n",
       "      <td>1.064341</td>\n",
       "    </tr>\n",
       "    <tr>\n",
       "      <td>2021-03-17</td>\n",
       "      <td>1.128123</td>\n",
       "      <td>1.064341</td>\n",
       "    </tr>\n",
       "    <tr>\n",
       "      <td>2021-03-18</td>\n",
       "      <td>1.127224</td>\n",
       "      <td>1.064341</td>\n",
       "    </tr>\n",
       "    <tr>\n",
       "      <td>2021-03-19</td>\n",
       "      <td>1.134444</td>\n",
       "      <td>1.064341</td>\n",
       "    </tr>\n",
       "    <tr>\n",
       "      <td>2021-03-20</td>\n",
       "      <td>1.134382</td>\n",
       "      <td>1.064341</td>\n",
       "    </tr>\n",
       "  </tbody>\n",
       "</table>\n",
       "<p>779 rows × 2 columns</p>\n",
       "</div>"
      ],
      "text/plain": [
       "            Продовольственный ИПЦ Онлайн  Продовольственный ИПЦ Росстат\n",
       "2019-02-01                      1.000000                       1.000000\n",
       "2019-02-02                      1.003908                       1.000000\n",
       "2019-02-03                      1.003908                       1.000000\n",
       "2019-02-04                      1.007858                       1.000000\n",
       "2019-02-05                      1.012493                       1.000000\n",
       "...                                  ...                            ...\n",
       "2021-03-16                      1.130835                       1.064341\n",
       "2021-03-17                      1.128123                       1.064341\n",
       "2021-03-18                      1.127224                       1.064341\n",
       "2021-03-19                      1.134444                       1.064341\n",
       "2021-03-20                      1.134382                       1.064341\n",
       "\n",
       "[779 rows x 2 columns]"
      ]
     },
     "execution_count": 31,
     "metadata": {},
     "output_type": "execute_result"
    }
   ],
   "source": [
    "# export CPI offline and CPI online to excel\n",
    "df_toexcel = cpi_online.merge(cpi_of, left_index=True, right_index=True)\n",
    "df_toexcel.columns = ['Продовольственный ИПЦ Онлайн', 'Продовольственный ИПЦ Росстат']\n",
    "df_toexcel"
   ]
  },
  {
   "cell_type": "code",
   "execution_count": null,
   "metadata": {},
   "outputs": [],
   "source": []
  }
 ],
 "metadata": {
  "kernelspec": {
   "display_name": "Python 3",
   "language": "python",
   "name": "python3"
  },
  "language_info": {
   "codemirror_mode": {
    "name": "ipython",
    "version": 3
   },
   "file_extension": ".py",
   "mimetype": "text/x-python",
   "name": "python",
   "nbconvert_exporter": "python",
   "pygments_lexer": "ipython3",
   "version": "3.7.4"
  }
 },
 "nbformat": 4,
 "nbformat_minor": 2
}
