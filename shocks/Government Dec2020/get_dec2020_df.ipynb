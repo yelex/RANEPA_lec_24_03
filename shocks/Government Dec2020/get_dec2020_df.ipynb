{
 "cells": [
  {
   "cell_type": "code",
   "execution_count": 1,
   "metadata": {},
   "outputs": [],
   "source": [
    "import numpy as np\n",
    "import pandas as pd\n",
    "\n",
    "import matplotlib.pyplot as plt   \n",
    "from pandas.plotting import register_matplotlib_converters\n",
    "register_matplotlib_converters()"
   ]
  },
  {
   "cell_type": "code",
   "execution_count": 2,
   "metadata": {},
   "outputs": [],
   "source": [
    "def geo_mean(iterable):\n",
    "    a = np.array(iterable)\n",
    "    return a.prod()**(1.0/len(a))\n",
    "\n",
    "def sum_day(srs):\n",
    "    number = (wt_srs*srs/(wt_srs*srs.notna()).sum()).sum()\n",
    "    return number"
   ]
  },
  {
   "cell_type": "code",
   "execution_count": 46,
   "metadata": {},
   "outputs": [
    {
     "data": {
      "text/html": [
       "<div>\n",
       "<style scoped>\n",
       "    .dataframe tbody tr th:only-of-type {\n",
       "        vertical-align: middle;\n",
       "    }\n",
       "\n",
       "    .dataframe tbody tr th {\n",
       "        vertical-align: top;\n",
       "    }\n",
       "\n",
       "    .dataframe thead th {\n",
       "        text-align: right;\n",
       "    }\n",
       "</style>\n",
       "<table border=\"1\" class=\"dataframe\">\n",
       "  <thead>\n",
       "    <tr style=\"text-align: right;\">\n",
       "      <th></th>\n",
       "      <th>category_id</th>\n",
       "      <th>category_title</th>\n",
       "      <th>date</th>\n",
       "      <th>miss</th>\n",
       "      <th>price_old</th>\n",
       "      <th>site_code</th>\n",
       "      <th>site_link</th>\n",
       "      <th>site_title</th>\n",
       "      <th>site_unit</th>\n",
       "      <th>type</th>\n",
       "      <th>price_new</th>\n",
       "      <th>nsprice_f</th>\n",
       "    </tr>\n",
       "    <tr>\n",
       "      <th>id</th>\n",
       "      <th></th>\n",
       "      <th></th>\n",
       "      <th></th>\n",
       "      <th></th>\n",
       "      <th></th>\n",
       "      <th></th>\n",
       "      <th></th>\n",
       "      <th></th>\n",
       "      <th></th>\n",
       "      <th></th>\n",
       "      <th></th>\n",
       "      <th></th>\n",
       "    </tr>\n",
       "  </thead>\n",
       "  <tbody>\n",
       "    <tr>\n",
       "      <td>0</td>\n",
       "      <td>10</td>\n",
       "      <td>Молоко питьевое цельное пастеризованное 2,5-3,...</td>\n",
       "      <td>2019-02-05</td>\n",
       "      <td>0</td>\n",
       "      <td>-1.0</td>\n",
       "      <td>globus</td>\n",
       "      <td>https://online.globus.ru/products/moloko-36-ko...</td>\n",
       "      <td>Молоко пастеризованное 36 Копеек 3,2%, 485 мл</td>\n",
       "      <td>за 1 шт.</td>\n",
       "      <td>food</td>\n",
       "      <td>34.89</td>\n",
       "      <td>34.89</td>\n",
       "    </tr>\n",
       "  </tbody>\n",
       "</table>\n",
       "</div>"
      ],
      "text/plain": [
       "    category_id                                     category_title  \\\n",
       "id                                                                   \n",
       "0            10  Молоко питьевое цельное пастеризованное 2,5-3,...   \n",
       "\n",
       "          date  miss  price_old site_code  \\\n",
       "id                                          \n",
       "0   2019-02-05     0       -1.0    globus   \n",
       "\n",
       "                                            site_link  \\\n",
       "id                                                      \n",
       "0   https://online.globus.ru/products/moloko-36-ko...   \n",
       "\n",
       "                                       site_title site_unit  type  price_new  \\\n",
       "id                                                                             \n",
       "0   Молоко пастеризованное 36 Копеек 3,2%, 485 мл  за 1 шт.  food      34.89   \n",
       "\n",
       "    nsprice_f  \n",
       "id             \n",
       "0       34.89  "
      ]
     },
     "execution_count": 46,
     "metadata": {},
     "output_type": "execute_result"
    }
   ],
   "source": [
    "df = pd.read_csv(r'~/PycharmProjects/ane_django/parsed_content/filled.csv', index_col='id').drop(columns='level_0')\n",
    "df.head(1)"
   ]
  },
  {
   "cell_type": "code",
   "execution_count": 47,
   "metadata": {},
   "outputs": [],
   "source": [
    "df = df[df.category_id!=76]\n",
    "# df = df[df.site_code!='ozon']\n",
    "df.loc[:,'unq'] = df.category_id.astype(str) + df.site_link\n",
    "df.loc[:,'date'] = pd.to_datetime(df.date)\n",
    "df = df[df.miss==0]\n",
    "df = df.drop(columns=['category_id','site_title','site_unit',\n",
    "                      'site_link','price_new','miss','price_old','site_code'])\n",
    "srs = df.groupby('unq')['nsprice_f'].transform(lambda x: x.pct_change()+1)\n",
    "df.loc[:,'cng_price'] = srs\n",
    "# df = df.drop(columns=['nsprice_f'])\n",
    "\n",
    "pvt_df = df.pivot_table(index='date', columns='category_title', aggfunc=geo_mean).loc[:,'cng_price'].iloc[1:]\n",
    "pvt_df.iloc[0,:] = 1\n",
    "\n",
    "pvt_df = pvt_df.fillna(method='ffill').apply(lambda x: x.cumprod(), axis=0).dropna(how='all')"
   ]
  },
  {
   "cell_type": "code",
   "execution_count": 59,
   "metadata": {},
   "outputs": [
    {
     "data": {
      "image/png": "[encoded data removed]",
      "text/plain": [
       "<Figure size 432x288 with 1 Axes>"
      ]
     },
     "metadata": {
      "needs_background": "light"
     },
     "output_type": "display_data"
    }
   ],
   "source": [
    "# Сахар-песок\n",
    "date_range = (pvt_df.index > '2020-09-01')&(pvt_df.index < '2021-03-20')\n",
    "plt.plot(pvt_df.loc[date_range, 'Сахар-песок']);\n",
    "plt.axvline(x='2020-12-16', color='red', ls='--');\n",
    "plt.title('Сахар-песок');\n",
    "plt.xticks(rotation=90);"
   ]
  },
  {
   "cell_type": "code",
   "execution_count": 60,
   "metadata": {},
   "outputs": [
    {
     "data": {
      "image/png": "[encoded data removed]",
      "text/plain": [
       "<Figure size 432x288 with 1 Axes>"
      ]
     },
     "metadata": {
      "needs_background": "light"
     },
     "output_type": "display_data"
    }
   ],
   "source": [
    "# Масло подсолнечное\n",
    "\n",
    "date_range = (pvt_df.index > '2020-09-01')&(pvt_df.index < '2021-03-20')\n",
    "plt.plot(pvt_df.loc[date_range, 'Масло подсолнечное']);\n",
    "plt.axvline(x='2020-12-16', color='red', ls='--');\n",
    "plt.title('Масло подсолнечное');\n",
    "plt.xticks(rotation=90);"
   ]
  },
  {
   "cell_type": "code",
   "execution_count": 66,
   "metadata": {},
   "outputs": [],
   "source": [
    "# export to excel\n",
    "df_toexcel = pvt_df.loc[date_range, ['Сахар-песок','Масло подсолнечное']]\n",
    "df_toexcel = (df_toexcel.pct_change()+1)\n",
    "df_toexcel.iloc[0,:] = 1\n",
    "df_toexcel = df_toexcel.cumprod()\n",
    "df_toexcel.to_excel('dec2020_df.xlsx')"
   ]
  },
  {
   "cell_type": "code",
   "execution_count": null,
   "metadata": {},
   "outputs": [],
   "source": []
  }
 ],
 "metadata": {
  "kernelspec": {
   "display_name": "Python 3",
   "language": "python",
   "name": "python3"
  },
  "language_info": {
   "codemirror_mode": {
    "name": "ipython",
    "version": 3
   },
   "file_extension": ".py",
   "mimetype": "text/x-python",
   "name": "python",
   "nbconvert_exporter": "python",
   "pygments_lexer": "ipython3",
   "version": "3.7.4"
  }
 },
 "nbformat": 4,
 "nbformat_minor": 2
}
